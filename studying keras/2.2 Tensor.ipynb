{
 "cells": [
  {
   "cell_type": "code",
   "execution_count": 1,
   "metadata": {},
   "outputs": [],
   "source": [
    "from keras.datasets import mnist\n",
    "(train_images, train_labels), (test_images, test_labels) = mnist.load_data()"
   ]
  },
  {
   "cell_type": "code",
   "execution_count": 2,
   "metadata": {},
   "outputs": [
    {
     "name": "stdout",
     "output_type": "stream",
     "text": [
      "3\n"
     ]
    }
   ],
   "source": [
    "print(train_images.ndim)"
   ]
  },
  {
   "cell_type": "code",
   "execution_count": 3,
   "metadata": {},
   "outputs": [
    {
     "name": "stdout",
     "output_type": "stream",
     "text": [
      "(60000, 28, 28)\n"
     ]
    }
   ],
   "source": [
    "print(train_images.shape)"
   ]
  },
  {
   "cell_type": "code",
   "execution_count": 4,
   "metadata": {},
   "outputs": [
    {
     "name": "stdout",
     "output_type": "stream",
     "text": [
      "uint8\n"
     ]
    }
   ],
   "source": [
    "print(train_images.dtype)"
   ]
  },
  {
   "cell_type": "code",
   "execution_count": 5,
   "metadata": {},
   "outputs": [
    {
     "data": {
      "image/png": "[encoded data removed]",
      "text/plain": [
       "<Figure size 432x288 with 1 Axes>"
      ]
     },
     "metadata": {
      "needs_background": "light"
     },
     "output_type": "display_data"
    }
   ],
   "source": [
    "digit = train_images[4]\n",
    "\n",
    "import matplotlib.pyplot as plt\n",
    "plt.imshow(digit, cmap=plt.cm.binary)\n",
    "plt.show()"
   ]
  },
  {
   "cell_type": "code",
   "execution_count": 8,
   "metadata": {},
   "outputs": [
    {
     "data": {
      "text/plain": [
       "(90, 28, 28)"
      ]
     },
     "execution_count": 8,
     "metadata": {},
     "output_type": "execute_result"
    }
   ],
   "source": [
    "my_slice = train_images[10:100]\n",
    "my_slice.shape"
   ]
  },
  {
   "cell_type": "code",
   "execution_count": 9,
   "metadata": {},
   "outputs": [
    {
     "data": {
      "text/plain": [
       "(90, 28, 28)"
      ]
     },
     "execution_count": 9,
     "metadata": {},
     "output_type": "execute_result"
    }
   ],
   "source": [
    "my_slice = train_images[10:100, :, :]\n",
    "my_slice.shape"
   ]
  },
  {
   "cell_type": "code",
   "execution_count": 10,
   "metadata": {},
   "outputs": [
    {
     "data": {
      "text/plain": [
       "(90, 28, 28)"
      ]
     },
     "execution_count": 10,
     "metadata": {},
     "output_type": "execute_result"
    }
   ],
   "source": [
    "my_slice = train_images[10:100, 0:28, 0:28]\n",
    "my_slice.shape"
   ]
  },
  {
   "cell_type": "code",
   "execution_count": 11,
   "metadata": {},
   "outputs": [
    {
     "data": {
      "text/plain": [
       "(60000, 14, 14)"
      ]
     },
     "execution_count": 11,
     "metadata": {},
     "output_type": "execute_result"
    }
   ],
   "source": [
    "# 右下14x14を選択\n",
    "my_slice = train_images[:, 14:, 14:]\n",
    "my_slice.shape"
   ]
  },
  {
   "cell_type": "code",
   "execution_count": 12,
   "metadata": {},
   "outputs": [
    {
     "data": {
      "text/plain": [
       "(60000, 14, 14)"
      ]
     },
     "execution_count": 12,
     "metadata": {},
     "output_type": "execute_result"
    }
   ],
   "source": [
    "# 画像の中央から14x14切り抜く\n",
    "my_slice = train_images[:, 7:-7, 7:-7]\n",
    "my_slice.shape"
   ]
  },
  {
   "cell_type": "code",
   "execution_count": 16,
   "metadata": {},
   "outputs": [
    {
     "name": "stdout",
     "output_type": "stream",
     "text": [
      "[[[[0.45476275 0.83592051 0.76797314 ... 0.79026859 0.294394\n",
      "    0.89767423]\n",
      "   [0.88468668 0.42901346 0.98824694 ... 0.32912831 0.74322439\n",
      "    0.53158736]\n",
      "   [0.82427639 0.41721    0.47347758 ... 0.71622752 0.89107073\n",
      "    0.98930605]\n",
      "   ...\n",
      "   [0.82370885 0.1174676  0.99241401 ... 0.87380167 0.76091055\n",
      "    0.48212306]\n",
      "   [0.46845103 0.94388206 0.85398034 ... 0.9545304  0.29409966\n",
      "    0.57302535]\n",
      "   [0.50118261 0.92708874 0.75552161 ... 0.9238109  0.91867479\n",
      "    0.89966575]]\n",
      "\n",
      "  [[0.45476275 0.83592051 0.58528001 ... 0.28053571 0.64095465\n",
      "    0.50735599]\n",
      "   [0.88468668 0.215185   0.34478642 ... 0.56829693 0.65728689\n",
      "    0.53158736]\n",
      "   [0.56681045 0.38274237 0.58757552 ... 0.22907444 0.89107073\n",
      "    0.98930605]\n",
      "   ...\n",
      "   [0.31045909 0.69672844 0.99241401 ... 0.99944678 0.76091055\n",
      "    0.76194448]\n",
      "   [0.57244395 0.64753852 0.85398034 ... 0.70713224 0.3509632\n",
      "    0.57302535]\n",
      "   [0.41015981 0.78379311 0.58554267 ... 0.82336364 0.94822849\n",
      "    0.74579439]]\n",
      "\n",
      "  [[0.45476275 0.83592051 0.60990334 ... 0.28053571 0.294394\n",
      "    0.71853672]\n",
      "   [0.88468668 0.74400607 0.7204823  ... 0.83058841 0.65728689\n",
      "    0.53158736]\n",
      "   [0.56681045 0.90379371 0.0855365  ... 0.78551116 0.89107073\n",
      "    0.98930605]\n",
      "   ...\n",
      "   [0.62432406 0.48932074 0.99241401 ... 0.5375844  0.98848104\n",
      "    0.60789501]\n",
      "   [0.30097734 0.30980707 0.85398034 ... 0.70713224 0.83054866\n",
      "    0.57302535]\n",
      "   [0.16906327 0.78379311 0.89802827 ... 0.82336364 0.91867479\n",
      "    0.51001236]]]\n",
      "\n",
      "\n",
      " [[[0.60025179 0.83592051 0.57437397 ... 0.53628694 0.48321543\n",
      "    0.59646458]\n",
      "   [0.88468668 0.70379353 0.73685119 ... 0.32912831 0.65728689\n",
      "    0.53158736]\n",
      "   [0.81443624 0.38274237 0.46258482 ... 0.19249029 0.89107073\n",
      "    0.98930605]\n",
      "   ...\n",
      "   [0.51095109 0.97084395 0.99241401 ... 0.5375844  0.76091055\n",
      "    0.48212306]\n",
      "   [0.3419139  0.30155849 0.85398034 ... 0.70713224 0.43546585\n",
      "    0.75565984]\n",
      "   [0.96132401 0.78379311 0.67396242 ... 0.82336364 0.91867479\n",
      "    0.97846445]]\n",
      "\n",
      "  [[0.45476275 0.83592051 0.62121798 ... 0.65065026 0.51457907\n",
      "    0.50735599]\n",
      "   [0.88468668 0.94050102 0.73145021 ... 0.32912831 0.79855176\n",
      "    0.53158736]\n",
      "   [0.73320719 0.38274237 0.1941057  ... 0.19249029 0.89107073\n",
      "    0.98930605]\n",
      "   ...\n",
      "   [0.31045909 0.82285617 0.99241401 ... 0.73517244 0.76091055\n",
      "    0.93226547]\n",
      "   [0.16879    0.08393753 0.85398034 ... 0.70713224 0.60336788\n",
      "    0.57302535]\n",
      "   [0.2015655  0.78379311 0.58554267 ... 0.82336364 0.91867479\n",
      "    0.29029218]]\n",
      "\n",
      "  [[0.45476275 0.83592051 0.326342   ... 0.53568346 0.90717714\n",
      "    0.62279983]\n",
      "   [0.88468668 0.16697252 0.56317179 ... 0.89703608 0.8872443\n",
      "    0.53158736]\n",
      "   [0.72379209 0.74952656 0.99382131 ... 0.19249029 0.89107073\n",
      "    0.98930605]\n",
      "   ...\n",
      "   [0.43860819 0.47860444 0.99241401 ... 0.5375844  0.76091055\n",
      "    0.48212306]\n",
      "   [0.17380055 0.46461667 0.85398034 ... 0.70713224 0.29409966\n",
      "    0.57302535]\n",
      "   [0.9622043  0.78379311 0.64170566 ... 0.82336364 0.91867479\n",
      "    0.95155846]]]\n",
      "\n",
      "\n",
      " [[[0.71569213 0.83592051 0.29681899 ... 0.7040083  0.294394\n",
      "    0.71676038]\n",
      "   [0.88468668 0.50130969 0.34478642 ... 0.49650508 0.96579929\n",
      "    0.53158736]\n",
      "   [0.83763092 0.49764151 0.71317248 ... 0.6470512  0.89107073\n",
      "    0.98930605]\n",
      "   ...\n",
      "   [0.4683519  0.22578705 0.99241401 ... 0.87959264 0.97755411\n",
      "    0.60391307]\n",
      "   [0.16879    0.62771008 0.85398034 ... 0.70713224 0.45777905\n",
      "    0.57302535]\n",
      "   [0.16906327 0.78379311 0.58554267 ... 0.82336364 0.91867479\n",
      "    0.29029218]]\n",
      "\n",
      "  [[0.8629998  0.83592051 0.80393388 ... 0.28053571 0.294394\n",
      "    0.50735599]\n",
      "   [0.88468668 0.16697252 0.41789865 ... 0.32912831 0.93440449\n",
      "    0.53158736]\n",
      "   [0.56681045 0.70787524 0.57317566 ... 0.66453524 0.89107073\n",
      "    0.98930605]\n",
      "   ...\n",
      "   [0.76054665 0.28700313 0.99241401 ... 0.5375844  0.76091055\n",
      "    0.92262714]\n",
      "   [0.27452798 0.48089635 0.85398034 ... 0.70713224 0.93266054\n",
      "    0.57302535]\n",
      "   [0.90605532 0.78379311 0.95775037 ... 0.82336364 0.91867479\n",
      "    0.85394392]]\n",
      "\n",
      "  [[0.77711228 0.83592051 0.7208052  ... 0.39241519 0.294394\n",
      "    0.71693671]\n",
      "   [0.88468668 0.32340741 0.34478642 ... 0.52770586 0.65728689\n",
      "    0.53158736]\n",
      "   [0.85566513 0.38274237 0.70117397 ... 0.97514492 0.89107073\n",
      "    0.98930605]\n",
      "   ...\n",
      "   [0.60290466 0.61002437 0.99241401 ... 0.95504578 0.77335308\n",
      "    0.61846482]\n",
      "   [0.16879    0.11706666 0.85398034 ... 0.92126025 0.81384861\n",
      "    0.57302535]\n",
      "   [0.29706287 0.78379311 0.58554267 ... 0.82336364 0.95957273\n",
      "    0.57603669]]]\n",
      "\n",
      "\n",
      " ...\n",
      "\n",
      "\n",
      " [[[0.93391539 0.83592051 0.35435408 ... 0.28053571 0.294394\n",
      "    0.50735599]\n",
      "   [0.88468668 0.46674007 0.64018175 ... 0.52327959 0.81060651\n",
      "    0.89137837]\n",
      "   [0.57944653 0.58589181 0.90500385 ... 0.46215403 0.89107073\n",
      "    0.98930605]\n",
      "   ...\n",
      "   [0.77953955 0.99317876 0.99241401 ... 0.5375844  0.76091055\n",
      "    0.48212306]\n",
      "   [0.7578282  0.83079429 0.97509951 ... 0.70713224 0.29409966\n",
      "    0.6378538 ]\n",
      "   [0.16906327 0.78379311 0.58554267 ... 0.82336364 0.91867479\n",
      "    0.29029218]]\n",
      "\n",
      "  [[0.73128656 0.83592051 0.77765928 ... 0.39294275 0.72832744\n",
      "    0.50735599]\n",
      "   [0.90587587 0.16697252 0.61667951 ... 0.33505632 0.65728689\n",
      "    0.91932568]\n",
      "   [0.56681045 0.80210605 0.34698845 ... 0.88694805 0.89107073\n",
      "    0.98930605]\n",
      "   ...\n",
      "   [0.4679076  0.54310278 0.99241401 ... 0.5375844  0.94185736\n",
      "    0.48212306]\n",
      "   [0.63128954 0.43697712 0.95615714 ... 0.72390216 0.98318168\n",
      "    0.78197192]\n",
      "   [0.80919593 0.94651054 0.66718724 ... 0.82336364 0.91867479\n",
      "    0.55032139]]\n",
      "\n",
      "  [[0.45476275 0.93009207 0.14426087 ... 0.69986916 0.6475334\n",
      "    0.50735599]\n",
      "   [0.88468668 0.46009422 0.46753205 ... 0.63937138 0.65728689\n",
      "    0.53158736]\n",
      "   [0.56681045 0.98525995 0.34728044 ... 0.19249029 0.89107073\n",
      "    0.98930605]\n",
      "   ...\n",
      "   [0.42118696 0.81829259 0.99241401 ... 0.98148676 0.97082515\n",
      "    0.48212306]\n",
      "   [0.16879    0.90539916 0.86026245 ... 0.70713224 0.61542841\n",
      "    0.7491591 ]\n",
      "   [0.66004237 0.90473152 0.58554267 ... 0.95324004 0.91867479\n",
      "    0.78661228]]]\n",
      "\n",
      "\n",
      " [[[0.98454472 0.83592051 0.86121984 ... 0.54466384 0.46978586\n",
      "    0.59024542]\n",
      "   [0.88468668 0.31314932 0.76780081 ... 0.379954   0.65728689\n",
      "    0.53158736]\n",
      "   [0.94858833 0.73579436 0.31722468 ... 0.82128839 0.89107073\n",
      "    0.98930605]\n",
      "   ...\n",
      "   [0.35967515 0.09439075 0.99241401 ... 0.5375844  0.76091055\n",
      "    0.561099  ]\n",
      "   [0.53753051 0.43789654 0.85398034 ... 0.70713224 0.29409966\n",
      "    0.57302535]\n",
      "   [0.16906327 0.78379311 0.58554267 ... 0.82336364 0.91867479\n",
      "    0.29029218]]\n",
      "\n",
      "  [[0.4810233  0.83592051 0.49012778 ... 0.54125067 0.85246692\n",
      "    0.50735599]\n",
      "   [0.88468668 0.98239119 0.34478642 ... 0.83298856 0.65728689\n",
      "    0.93325333]\n",
      "   [0.74146223 0.61180003 0.01885032 ... 0.47128964 0.97633505\n",
      "    0.98930605]\n",
      "   ...\n",
      "   [0.60774801 0.39193901 0.99241401 ... 0.93512089 0.76091055\n",
      "    0.64589816]\n",
      "   [0.93662891 0.70998123 0.85398034 ... 0.70713224 0.79687237\n",
      "    0.57302535]\n",
      "   [0.44004142 0.78379311 0.74684725 ... 0.82336364 0.91867479\n",
      "    0.56572733]]\n",
      "\n",
      "  [[0.45476275 0.83592051 0.21617876 ... 0.47541491 0.294394\n",
      "    0.56280724]\n",
      "   [0.88468668 0.16697252 0.34478642 ... 0.87839191 0.68592636\n",
      "    0.82480294]\n",
      "   [0.82272662 0.41913552 0.95342852 ... 0.52752345 0.89107073\n",
      "    0.98930605]\n",
      "   ...\n",
      "   [0.58009824 0.82563541 0.99241401 ... 0.5375844  0.76091055\n",
      "    0.48212306]\n",
      "   [0.60399855 0.85054752 0.85398034 ... 0.75223742 0.8887766\n",
      "    0.57302535]\n",
      "   [0.72131915 0.78379311 0.70880038 ... 0.82336364 0.91867479\n",
      "    0.29985478]]]\n",
      "\n",
      "\n",
      " [[[0.67408943 0.83592051 0.11641632 ... 0.87581215 0.34840996\n",
      "    0.99418492]\n",
      "   [0.93859823 0.16697252 0.46714678 ... 0.99481713 0.65728689\n",
      "    0.7592408 ]\n",
      "   [0.64016058 0.74186748 0.12309415 ... 0.19735692 0.89107073\n",
      "    0.98930605]\n",
      "   ...\n",
      "   [0.8193576  0.99052549 0.99241401 ... 0.5375844  0.76091055\n",
      "    0.48212306]\n",
      "   [0.16879    0.71865764 0.85398034 ... 0.70713224 0.7123533\n",
      "    0.57302535]\n",
      "   [0.49102411 0.78379311 0.58554267 ... 0.82336364 0.91867479\n",
      "    0.29029218]]\n",
      "\n",
      "  [[0.59131983 0.83592051 0.15907561 ... 0.28053571 0.33762777\n",
      "    0.50735599]\n",
      "   [0.88468668 0.64504745 0.4421612  ... 0.35210835 0.73220844\n",
      "    0.53158736]\n",
      "   [0.56681045 0.45393454 0.26384207 ... 0.5702038  0.89107073\n",
      "    0.98930605]\n",
      "   ...\n",
      "   [0.9242029  0.69448699 0.99241401 ... 0.5375844  0.79457965\n",
      "    0.60477564]\n",
      "   [0.92415097 0.08855704 0.85398034 ... 0.85132813 0.29409966\n",
      "    0.57302535]\n",
      "   [0.16906327 0.78379311 0.58554267 ... 0.82336364 0.91867479\n",
      "    0.42753468]]\n",
      "\n",
      "  [[0.55180413 0.83592051 0.62629746 ... 0.99322626 0.294394\n",
      "    0.70374824]\n",
      "   [0.98768405 0.62591213 0.34478642 ... 0.32912831 0.65728689\n",
      "    0.53158736]\n",
      "   [0.9289864  0.8942617  0.84720263 ... 0.19249029 0.89107073\n",
      "    0.98930605]\n",
      "   ...\n",
      "   [0.48902484 0.95816509 0.99241401 ... 0.5375844  0.76091055\n",
      "    0.99352051]\n",
      "   [0.16879    0.8335065  0.85398034 ... 0.85837976 0.50747013\n",
      "    0.63207735]\n",
      "   [0.33675802 0.78379311 0.58554267 ... 0.82336364 0.91867479\n",
      "    0.41996115]]]]\n"
     ]
    }
   ],
   "source": [
    "import numpy as np\n",
    "\n",
    "x = np.random.random((64, 3, 32, 10))\n",
    "y = np.random.random((32, 10))\n",
    "z = np.maximum(x, y)\n",
    "\n",
    "print(z)"
   ]
  },
  {
   "cell_type": "code",
   "execution_count": 17,
   "metadata": {},
   "outputs": [
    {
     "name": "stdout",
     "output_type": "stream",
     "text": [
      "(3, 2)\n"
     ]
    }
   ],
   "source": [
    "\n",
    "\n",
    "x = np.array([[0., 1.],\n",
    "                    [2., 3.],\n",
    "                    [4., 5.]])\n",
    "print(x.shape)"
   ]
  },
  {
   "cell_type": "code",
   "execution_count": 20,
   "metadata": {},
   "outputs": [
    {
     "data": {
      "text/plain": [
       "array([[0.],\n",
       "       [1.],\n",
       "       [2.],\n",
       "       [3.],\n",
       "       [4.],\n",
       "       [5.]])"
      ]
     },
     "execution_count": 20,
     "metadata": {},
     "output_type": "execute_result"
    }
   ],
   "source": [
    "x = x.reshape((6, 1))\n",
    "x"
   ]
  },
  {
   "cell_type": "code",
   "execution_count": 22,
   "metadata": {},
   "outputs": [
    {
     "data": {
      "text/plain": [
       "array([[0., 1., 2.],\n",
       "       [3., 4., 5.]])"
      ]
     },
     "execution_count": 22,
     "metadata": {},
     "output_type": "execute_result"
    }
   ],
   "source": [
    "x = x.reshape((2, 3))\n",
    "x"
   ]
  },
  {
   "cell_type": "code",
   "execution_count": 23,
   "metadata": {},
   "outputs": [
    {
     "name": "stdout",
     "output_type": "stream",
     "text": [
      "(20, 300)\n"
     ]
    }
   ],
   "source": [
    "x = np.zeros((300, 20))\n",
    "x = np.transpose(x)\n",
    "print(x.shape)"
   ]
  },
  {
   "cell_type": "code",
   "execution_count": null,
   "metadata": {},
   "outputs": [],
   "source": []
  }
 ],
 "metadata": {
  "kernelspec": {
   "display_name": "Python 3",
   "language": "python",
   "name": "python3"
  },
  "language_info": {
   "codemirror_mode": {
    "name": "ipython",
    "version": 3
   },
   "file_extension": ".py",
   "mimetype": "text/x-python",
   "name": "python",
   "nbconvert_exporter": "python",
   "pygments_lexer": "ipython3",
   "version": "3.7.6"
  }
 },
 "nbformat": 4,
 "nbformat_minor": 4
}
